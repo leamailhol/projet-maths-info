{
 "cells": [
  {
   "cell_type": "markdown",
   "metadata": {},
   "source": [
    "## Respect des contraintes du sujet\n",
    "\n",
    "En gros, il y avait deux contraintes pour déterminer le point suivant de la courbe :\n",
    "\n",
    "1) le point doit être sur la courbe de niveau (à une précision fixée près)\n",
    "\n",
    "2) la distance entre 2 points successifs est fixée à $\\delta$\n",
    "\n",
    "Comme beaucoup d'entre vous ont constaté, suivre la tangente pour déterminer le prochain point respect la contrainte 2) mais pas la contrainte 1) car il y a une accumulation d'erreurs à chaque itération, à moins de prendre un pas $\\delta$ déraisonnablement faible.\n",
    "\n",
    "Il faut donc \"corriger\" l'estimée donnée par la tangente pour ramener le point sur la courbe.\n",
    "\n",
    "Certains d'entre vous, on corrigé en faisant des dichotomies ou des algos de Newton horizontaux et/ou verticaux (ou même certain le long d'une direction oblique privilégiée). Toutes ces méthodes permettent en effet de revenir sur la courbe mais au prix de la contrainte 2) (plus ou moins sérieusement selon votre méthode)\n",
    "\n",
    "Des manières de vérifier les deux contraintes simultanément comprennent :\n",
    "\n",
    "- soit une dichotomie en angle sur le cercle de rayon $\\delta$ centré au point précédent, en commençant du point \"estimé\" par la tangente\n",
    "\n",
    "- soit implémenter un algo de Newton en dimension 2 sur la fonction $F(x,y) = \\Big(f(x,y)-c \\ , \\ (x-x_{n-1})^2 + (y-y_{n-1})^2 - \\delta^2 \\Big)$ dont les zéros correspondent exactement aux points que l'on cherche, à savoir des points de la courbe à une distance $\\delta$ du point précédent. On peut alors initialiser l'algo de Newton au point \"estimé\" par la tangente."
   ]
  },
  {
   "cell_type": "markdown",
   "metadata": {},
   "source": [
    "## Choix de la direction de parcours\n",
    "\n",
    "De nombreuses copies utilise la direction orthogonale au gradient, ou la tangente pour déterminer la direction vers le prochain point. Le problème se pose alors de choisir parmi les deux sens possibles. \n",
    "\n",
    "Assez souvent la solution choisie consiste à prendre le point le plus éloigné du\n",
    "précédent; c'est-à-dire d'assurer que \n",
    "\n",
    "$\\|M_{n+1}M_{n}\\|$ < $\\|M_{n+1}M_{n-1}\\|$\n",
    "\n",
    "Cette approche a un gros inconvénient, ça oblige à calculer deux points avant de pouvoir\n",
    "entrer dans une boucle.\n",
    "\n",
    "Il est plus simple - et marginalement plus efficace aussi - \n",
    "de \n",
    "\n",
    "- soit choisir la \"bonne\" convention de signe à la première itération (car on sait alors dans quel sens partir pour entrer dans la cellule) et ensuite garder cette convention tout au long du tracé par continuité\n",
    "\n",
    "- soit considérer que le produit scalaire $\\overrightarrow{M_{n-1}M_n}\\overrightarrow{M_nM_{n+1}} \\geq 0$ en initialisant à $\\overrightarrow{M_{-1}M_0} = (1, 0)$"
   ]
  },
  {
   "cell_type": "markdown",
   "metadata": {},
   "source": [
    "## Traitement des exceptions\n",
    "\n",
    "Dans cet exercice il y a le cas de coin où par malchance les deux dérivées s'annulent - ou sont très petites; souvent ce cas implique une division par zéro, ou un calcul erroné.\n",
    "\n",
    "Une bonne façon de gérer cela sans défigurer le code consiste à lever une exception :\n",
    "\n",
    "```python\n",
    "# calcul du point approché suivant de la ligne de niveau à partir de (x,y)\n",
    "def calcul_suivant(f, x, y, delta, direc=1):\n",
    "    gfx, gfy = grad_f(f, x, y)\n",
    "    ortho = np.array([-gfy, gfx])\n",
    "    ortho = ortho*delta / norme(ortho)*direc\n",
    "    return x+ortho[0],y+ortho[1]\n",
    "```\n",
    "\n",
    "```python\n",
    "# calcul du point approché suivant de la ligne de niveau à partir de (x,y)\n",
    "def calcul_suivant(f, x, y, delta, direc=1):\n",
    "    gfx, gfy = grad_f(f, x, y)\n",
    "    ortho = np.array([-gfy, gfx])\n",
    "# il sufit d'ajouter ceci\n",
    "    if np.isclose(x, np.zeros((2,)), atol=0.00001):\n",
    "        raise ValueError(f\"les dérivées en {x} et {y} sont très faibles\")\n",
    "#\n",
    "    ortho = ortho*delta / norme(ortho)*direc\n",
    "    return x+ortho[0],y+ortho[1]\n",
    "```\n",
    "\n",
    "\n"
   ]
  },
  {
   "cell_type": "markdown",
   "metadata": {},
   "source": [
    "## Git"
   ]
  },
  {
   "cell_type": "markdown",
   "metadata": {},
   "source": [
    "### Versionnez les fichiers sélectivement\n",
    "\n",
    "Vous allez bien sûr vouloir versionner des fichiers comme votre notebook pour mémoriser son évolution, le partager, etc.\n",
    "\n",
    "Mais certains fichiers ou répertoires de votre répertoire courant n'ont pas vocation à être référencés avec git.\n",
    "Par exemple, le répertoire `.ipynb_checkpoints`, qui contient une copie des sauvegardes de votre notebook faites manuellement dans l'interface graphique du notebook ; ce dossier fait double emploi avec les fonctionnalités déjà assurées par git !\n",
    "\n",
    "#### La solution\n",
    "\n",
    "  - Vous pouvez tout simplement ne jamais le référencer activement avec git (ne jamais faire `git add .ipynb_checkpoints` ou commande équivalente). Mais git va alors en permanence vous signaler que ce fichier n'est pas référencé ...  \n",
    "  \n",
    "  - Le plus efficace consiste à signaler explicitement à git de ne jamais s'occuper de ce type de fichiers. Ce qui se fait en définissant un fichier `.gitignore` dans la racine du dépôt, par exemple avec le contenu\n",
    "\n",
    "        # Don't track Jupyter notebooks checkpoints\n",
    "        .ipynb_checkpoints\n",
    "    \n",
    "\n",
    "#### Références\n",
    "\n",
    " - [Tutorial `.gitignore` (Bitbucket)](https://www.atlassian.com/git/tutorials/saving-changes/gitignore)\n",
    "\n",
    " - Le site https://www.gitignore.io/ (pour générer rapidement des fichiers `.gitignore` pour des projets notebooks, Python, C++, etc.). \n"
   ]
  },
  {
   "cell_type": "markdown",
   "metadata": {},
   "source": [
    "## Présentation du code\n",
    "\n",
    "Il est de bon ton d'aérer un peu son code pour le rendre plus lisible  \n",
    "La convention en Python est [décrite dans la PEP-008](http://sametmax.com/le-pep8-en-resume/)\n",
    "\n",
    "Par exemple ce code :\n",
    "\n",
    "\n",
    "```python\n",
    "def grad_f(f,x,y): #calcul du gradient de f en (x,y)\n",
    "    a,b=float(x),float(y)\n",
    "    gradient=ag.grad\n",
    "    return np.array([gradient(f,0)(a,b),gradient(f,1)(a,b)])\n",
    "```\n",
    "\n",
    "devrait en fait être écrit comme ceci; on a mis en évidence avec `⇓` les espaces ajoutés:\n",
    "\n",
    "```python\n",
    "#            ⇓  ⇓     ⇓\n",
    "def grad_f(f, x, y): # calcul du gradient de f en (x,y)\n",
    "#     ⇓ ⇓ ⇓         ⇓\n",
    "    a, b = float(x), float(y)\n",
    "#           ⇓ ⇓\n",
    "    gradient = ag.grad\n",
    "#                               ⇓        ⇓           ⇓ \n",
    "    return np.array([gradient(f, 0)(a,b), gradient(f, 1)(a,b)])\n",
    "```\n",
    "\n",
    "ce qui donne \n",
    "\n",
    "```python\n",
    "def grad_f(f, x, y): # calcul du gradient de f en (x,y)\n",
    "    a, b = float(x), float(y)\n",
    "    gradient = ag.grad\n",
    "    return np.array([gradient(f, 0)(a,b), gradient(f, 1)(a,b)])\n",
    "```"
   ]
  }
 ],
 "metadata": {
  "kernelspec": {
   "display_name": "Python 3",
   "language": "python",
   "name": "python3"
  },
  "language_info": {
   "codemirror_mode": {
    "name": "ipython",
    "version": 3
   },
   "file_extension": ".py",
   "mimetype": "text/x-python",
   "name": "python",
   "nbconvert_exporter": "python",
   "pygments_lexer": "ipython3",
   "version": "3.6.9"
  }
 },
 "nbformat": 4,
 "nbformat_minor": 2
}
