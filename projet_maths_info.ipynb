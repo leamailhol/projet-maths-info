{
 "cells": [
  {
   "cell_type": "code",
   "execution_count": 18,
   "metadata": {},
   "outputs": [],
   "source": [
    "import autograd.numpy as np\n",
    "import matplotlib.pyplot as plt\n",
    "import autograd"
   ]
  },
  {
   "cell_type": "raw",
   "metadata": {},
   "source": [
    "Les fonctions qui nous serviront pour vérifier notre programme : "
   ]
  },
  {
   "cell_type": "code",
   "execution_count": 19,
   "metadata": {},
   "outputs": [],
   "source": [
    "def f(x,y):\n",
    "    return np.exp(-x**2-y**2)\n",
    "\n",
    "def g(x,y):\n",
    "    return np.exp(-(x-1)**2-(y-1)**2)\n",
    "\n",
    "def h(x,y):\n",
    "    return 2*(f(x,y)-g(x,y))"
   ]
  },
  {
   "cell_type": "raw",
   "metadata": {},
   "source": [
    "On implemente la fonction find_seed. C'est une dichotomie sur un intervalle [inf,sup]."
   ]
  },
  {
   "cell_type": "code",
   "execution_count": 20,
   "metadata": {},
   "outputs": [],
   "source": [
    "def find_seed(g,inf,sup,c=0,eps=2**(-26)):\n",
    "    if (g(inf)-c)*(g(sup)-c)>0:\n",
    "        return None\n",
    "    else:\n",
    "        deb=inf\n",
    "        fin=sup\n",
    "        m=(deb+fin)/2\n",
    "        if g(inf)>=g(sup):\n",
    "            dec=True\n",
    "        else :\n",
    "            dec=False\n",
    "        while np.abs((g(m)-c))>eps:\n",
    "            if g(m)>c:\n",
    "                if dec:\n",
    "                    deb=m\n",
    "                else:\n",
    "                    fin=m\n",
    "            elif g(m)<c:\n",
    "                if dec:\n",
    "                    fin=m\n",
    "                else:\n",
    "                    deb=m\n",
    "            m=(deb+fin)/2\n",
    "        return m"
   ]
  },
  {
   "cell_type": "code",
   "execution_count": 21,
   "metadata": {},
   "outputs": [],
   "source": [
    "def F(x,y,centre_cercle,f,c,delta):\n",
    "    return(f(x,y)-c,(x-centre_cercle[0])**2+(y-centre_cercle[1])**2-delta**2)"
   ]
  },
  {
   "cell_type": "code",
   "execution_count": 22,
   "metadata": {},
   "outputs": [],
   "source": [
    "def newton(point_init,centre_cercle,f,c,delta,eps=2**(-26)):\n",
    "    point=point_init\n",
    "    valeur_F=F(point_init[0],point_init[1],centre_cercle,f,c,delta)\n",
    "    while valeur_F[0]>eps and valeur_F[1]>eps:\n",
    "        J_inv=np.linalg.inv(Jacob(F,point[0],point[1]))\n",
    "        point=point-np.dot(J_inv,F(point[0],point[1],centre_cercle,f,c,delta))\n",
    "        valeur_F=F(point[0],point[1],centre_cercle,f,c,delta)\n",
    "    return point"
   ]
  },
  {
   "cell_type": "raw",
   "metadata": {},
   "source": [
    "Pour la fonction simple_contour, on commence par se placer sur une arête du carré. On trouve le point de départ grâce à find_seed puis on se déplace d'un pas delta sur la tangente aux lignes de niveau. "
   ]
  },
  {
   "cell_type": "raw",
   "metadata": {},
   "source": [
    "Pour trouver la tangente à la ligne de niveau nous calculons le gradient de f au point (x,y). Nous avons donc un vecteur orthogonal au vecteur directeur de la tangente.\n",
    "Pour se rapprocher de la valeur exacte, tout en restant à une distance delta de l'ancien point, nous réalisons une méthode de Newton a F qui vérifie f(x,y)=c et qui appartient au cercle de rayon delta."
   ]
  },
  {
   "cell_type": "code",
   "execution_count": 23,
   "metadata": {},
   "outputs": [],
   "source": [
    "def simple_contour(f,absinf,abssup,ordinf,ordsup,arete,c=0,delta=0.01,eps=2**(-26)):\n",
    "    if arete==\"gauche\":\n",
    "        x=[absinf]\n",
    "        def g(t):\n",
    "            return f(absinf,t)\n",
    "        y=[find_seed(g,ordinf,ordsup,c)]\n",
    "        i=0\n",
    "        if y==[None]:\n",
    "            return [],[]\n",
    "    elif arete=='droite':\n",
    "        x=[abssup]\n",
    "        def g(t):\n",
    "            return f(abssup,t)\n",
    "        y=[find_seed(g,ordinf,ordsup,c)]\n",
    "        i=0\n",
    "        if y==[None]:\n",
    "            return [],[]\n",
    "    elif arete=='haut':\n",
    "        def g(t):\n",
    "            return f(t,ordsup)\n",
    "        x=[find_seed(g,absinf,abssup,c)]\n",
    "        y=[ordsup]\n",
    "        i=0\n",
    "        if x==[None]:\n",
    "            return [],[]\n",
    "    elif arete=='bas':\n",
    "        def g(t):\n",
    "            return f(t,ordinf)\n",
    "        x=[find_seed(g,absinf,abssup,c)]\n",
    "        y=[ordinf]\n",
    "        i=0\n",
    "        if x==[None]:\n",
    "            return [],[]\n",
    "    while x[i]>=absinf and x[i]<=abssup and y[i]>=ordinf and y[i]<=ordsup:\n",
    "        grad=np.array([autograd.grad(f,0)(x[i],y[i]),autograd.grad(f,1)(x[i],y[i])])\n",
    "        ortho=np.array([-grad[1],grad[0]])\n",
    "        orthonorm=ortho/(np.sqrt(ortho[0]**2+ortho[1]**2))\n",
    "        point_init=np.array([x[i],y[i]])+delta*orthonorm\n",
    "        new=newton(point_init,(x[i],y[i]),f,c,delta,eps)\n",
    "        x.append(new[0])\n",
    "        y.append(new[1])\n",
    "        i+=1\n",
    "    return x,y"
   ]
  },
  {
   "cell_type": "raw",
   "metadata": {},
   "source": [
    "Enfin, la fonction contour rassemble les données de tous les carrés et des quatre fonctions simple_contour"
   ]
  },
  {
   "cell_type": "code",
   "execution_count": 24,
   "metadata": {},
   "outputs": [],
   "source": [
    "\n",
    "def contour(f,c=0.0,xc=[0.0,1.0],yc=[0.0,1.0],delta=0.01):\n",
    "    xs=[]\n",
    "    ys=[]\n",
    "    for i in range(len(xc)-1):\n",
    "        for j in range(len(yc)-1):\n",
    "            a,b=simple_contour(f,xc[i],xc[i+1],yc[j],yc[j+1],\"gauche\",c,delta)\n",
    "            xs.append(a)\n",
    "            ys.append(b)\n",
    "            a,b=simple_contour(f,xc[i],xc[i+1],yc[j],yc[j+1],\"droite\",c,delta)\n",
    "            xs.append(a)\n",
    "            ys.append(b)\n",
    "            a,b=simple_contour(f,xc[i],xc[i+1],yc[j],yc[j+1],\"haut\",c,delta)\n",
    "            xs.append(a)\n",
    "            ys.append(b)\n",
    "            a,b=simple_contour(f,xc[i],xc[i+1],yc[j],yc[j+1],\"bas\",c,delta)\n",
    "            xs.append(a)\n",
    "            ys.append(b)\n",
    "    return xs,ys"
   ]
  },
  {
   "cell_type": "code",
   "execution_count": 25,
   "metadata": {
    "scrolled": false
   },
   "outputs": [
    {
     "data": {
      "image/png": "[encoded data removed]",
      "text/plain": [
       "<Figure size 432x288 with 1 Axes>"
      ]
     },
     "metadata": {
      "needs_background": "light"
     },
     "output_type": "display_data"
    }
   ],
   "source": [
    "def tracer(h):\n",
    "    for c in [-1,-0.5,0,0.5,1]:\n",
    "        xs, ys=contour(h,c,[-2.,0.,1.,2.,3.],[-2.,0.,1.,2.,3.])\n",
    "        for x,y in zip(xs,ys):\n",
    "            plt.plot(x,y)\n",
    "    plt.show()\n",
    "    \n",
    "tracer(h)    "
   ]
  }
 ],
 "metadata": {
  "kernelspec": {
   "display_name": "Python 3",
   "language": "python",
   "name": "python3"
  },
  "language_info": {
   "codemirror_mode": {
    "name": "ipython",
    "version": 3
   },
   "file_extension": ".py",
   "mimetype": "text/x-python",
   "name": "python",
   "nbconvert_exporter": "python",
   "pygments_lexer": "ipython3",
   "version": "3.7.3"
  }
 },
 "nbformat": 4,
 "nbformat_minor": 2
}
